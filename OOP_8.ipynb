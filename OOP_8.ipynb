{
  "nbformat": 4,
  "nbformat_minor": 0,
  "metadata": {
    "colab": {
      "name": "OOP_8.ipynb",
      "provenance": [],
      "collapsed_sections": [],
      "authorship_tag": "ABX9TyMsLOGR45NGYqOPW+ZYFgK+",
      "include_colab_link": true
    },
    "kernelspec": {
      "name": "python3",
      "display_name": "Python 3"
    },
    "language_info": {
      "name": "python"
    }
  },
  "cells": [
    {
      "cell_type": "markdown",
      "metadata": {
        "id": "view-in-github",
        "colab_type": "text"
      },
      "source": [
        "<a href=\"https://colab.research.google.com/github/ahnafwarith/oop-8/blob/main/OOP_8.ipynb\" target=\"_parent\"><img src=\"https://colab.research.google.com/assets/colab-badge.svg\" alt=\"Open In Colab\"/></a>"
      ]
    },
    {
      "cell_type": "markdown",
      "source": [
        "# Task 1"
      ],
      "metadata": {
        "id": "1f8MKtZVjbVz"
      }
    },
    {
      "cell_type": "code",
      "execution_count": 4,
      "metadata": {
        "id": "egKWOHpOjHaz",
        "colab": {
          "base_uri": "https://localhost:8080/"
        },
        "outputId": "bce00e86-b56d-41c8-9588-52a18ffaf432"
      },
      "outputs": [
        {
          "output_type": "stream",
          "name": "stdout",
          "text": [
            "RealPart: 1.0\n",
            "ImaginaryPart: 1.0\n",
            "---------\n",
            "RealPart: 5.0\n",
            "ImaginaryPart: 7.0\n"
          ]
        }
      ],
      "source": [
        "class RealNumber:\n",
        "  def __init__(self, r=0):\n",
        "    self.__realValue = r\n",
        "  def getRealValue(self):\n",
        "    return self.__realValue\n",
        "  def setRealValue(self, r):\n",
        "    self.__realValue = r\n",
        "  def __str__(self):\n",
        "    return 'RealPart: '+str(self.getRealValue())\n",
        "\n",
        "class ComplexNumber(RealNumber):\n",
        "  def __init__(self,r=1,i=1):\n",
        "    super().__init__(float(r))\n",
        "    self.i = float(i)\n",
        "\n",
        "  def __str__(self):\n",
        "    return f\"RealPart: {self.getRealValue()}\\nImaginaryPart: {self.i}\"\n",
        "\n",
        "cn1 = ComplexNumber()\n",
        "print(cn1)\n",
        "print('---------')\n",
        "cn2 = ComplexNumber(5,7)\n",
        "print(cn2)\n",
        "\n",
        "# OUTPUT:\n",
        "# RealPart: 1.0\n",
        "# ImaginaryPart: 1.0\n",
        "# --------------------\n",
        "# RealPart: 5.0\n",
        "# ImaginaryPart: 7.0"
      ]
    },
    {
      "cell_type": "markdown",
      "source": [
        "# Task  2"
      ],
      "metadata": {
        "id": "M70LKviBjhT_"
      }
    },
    {
      "cell_type": "code",
      "source": [
        "class RealNumber:\n",
        "    def __init__(self, number=0):\n",
        "        self.number = number\n",
        "\n",
        "    def __add__(self, anotherRealNumber):\n",
        "        return self.number + anotherRealNumber.number\n",
        "\n",
        "    def __sub__(self, anotherRealNumber):\n",
        "        return self.number - anotherRealNumber.number\n",
        "\n",
        "    def __str__(self):\n",
        "        return str(self.number)\n",
        "\n",
        "\n",
        "class ComplexNumber(RealNumber):\n",
        "    def __init__(self, real, imaginary):\n",
        "\n",
        "        if isinstance(real, int):\n",
        "            super().__init__(real)\n",
        "            self.imaginary = imaginary\n",
        "        else:\n",
        "            super().__init__(real.number)\n",
        "            self.imaginary = imaginary\n",
        "\n",
        "    def __add__(self, other):\n",
        "\n",
        "        real_num = (self.number) + (other.number)\n",
        "        imaginary_num = (self.imaginary) + other.imaginary\n",
        "\n",
        "        return ComplexNumber(real_num, imaginary_num)\n",
        "\n",
        "    def __sub__(self, other):\n",
        "\n",
        "        real_num = (self.number) - (other.number)\n",
        "        imaginary_num = (self.imaginary) - other.imaginary\n",
        "\n",
        "        return ComplexNumber(real_num, imaginary_num)\n",
        "\n",
        "    def __str__(self):\n",
        "        if self.imaginary < 0:\n",
        "            return f\"{str(self.number) + str(self.imaginary)}i\"\n",
        "        else:\n",
        "            return f\"{self.number} + {self.imaginary}i\"\n",
        "\n",
        "\n",
        "r1 = RealNumber(3)\n",
        "r2 = RealNumber(5)\n",
        "print(r1 + r2)\n",
        "cn1 = ComplexNumber(2, 1)\n",
        "print(cn1)\n",
        "cn2 = ComplexNumber(r1, 5)\n",
        "print(cn2)\n",
        "cn3 = cn1 + cn2\n",
        "print(cn3)\n",
        "cn4 = cn1 - cn2\n",
        "print(cn4)"
      ],
      "metadata": {
        "colab": {
          "base_uri": "https://localhost:8080/"
        },
        "id": "eTO0xhlomnnj",
        "outputId": "3c248e77-e458-430e-fece-18a747c230eb"
      },
      "execution_count": 8,
      "outputs": [
        {
          "output_type": "stream",
          "name": "stdout",
          "text": [
            "8\n",
            "2 + 1i\n",
            "3 + 5i\n",
            "5 + 6i\n",
            "-1-4i\n"
          ]
        }
      ]
    },
    {
      "cell_type": "code",
      "source": [
        "class RealNumber:\n",
        "  def __init__(self, number=0):\n",
        "    self.number = number\n",
        "  def __add__(self, anotherRealNumber):\n",
        "    return self.number + anotherRealNumber.number\n",
        "  def __sub__(self, anotherRealNumber):\n",
        "    return self.number - anotherRealNumber.number\n",
        "  def __str__(self):\n",
        "    return str(self.number)\n",
        "\n",
        "class ComplexNumber(RealNumber):\n",
        "  def __init__(self,r,i):\n",
        "    if isinstance(r,int): # if r in [0,1,2,3,4,5,6,7,8,9]:  /// Why error?\n",
        "      super().__init__(r)\n",
        "    else:\n",
        "      super().__init__(r.number)\n",
        "    self.complexNumber = i\n",
        "\n",
        "  def __str__(self):\n",
        "    return f\"{self.number} + {self.complexNumber}i\"\n",
        "\n",
        "  def __add__(self,other):\n",
        "    r = self.number + other.number\n",
        "    i = self.complexNumber + other.complexNumber\n",
        "    return ComplexNumber(r,i)\n",
        "\n",
        "  def __sub__(self,other):\n",
        "    r = self.number - other.number\n",
        "    i = self.complexNumber - other.complexNumber\n",
        "    return ComplexNumber(r,i)\n",
        "# Lesson: KISS - Keep it simple stupid!\n",
        "# First attempt:\n",
        "# class ComplexNumber(RealNumber):\n",
        "#   def __init__(self,no1,no2):\n",
        "#     super().__init__(no1)\n",
        "#     self.complexNo = str(no2) + \"i\"\n",
        "#     self.complexNumber = str(no1) + \" + \" + self.complexNo\n",
        "\n",
        "#   def __add__(self,other):\n",
        "#     if other.realNo in [1,2,3,4,5,6,7,8,9,0]: realNumber = self.realNo + other.realNo\n",
        "#     else: realNumber = self.realNo + other.realNo.number\n",
        "#     x = int(self.complexNo[:-1:])\n",
        "#     y = int(other.complexNo[:-1:])\n",
        "#     complexNo = str(x + y) + 'i'\n",
        "#     return realNumber + ' + ' + complexNo\n",
        "\n",
        "#   def __sub__(self,other):\n",
        "#     if other.realNo in [1,2,3,4,5,6,7,8,9,0]: realNumber = self.realNo + other.realNo\n",
        "#     else: realNumber = self.realNo + other.realNo.number\n",
        "#     x = int(self.complexNo[:-1:])\n",
        "#     y = int(other.complexNo[:-1:])\n",
        "#     complexNo = str(x - y) + 'i'\n",
        "#     return realNumber + ' + ' + complexNo\n",
        "\n",
        "#   def __str__(self):\n",
        "#     return str(self.complexNumber)\n",
        "\n",
        "r1 = RealNumber(3)\n",
        "r2 = RealNumber(5)\n",
        "print(r1+r2)\n",
        "cn1 = ComplexNumber(2, 1)\n",
        "print(cn1)\n",
        "cn2 = ComplexNumber(r1, 5)\n",
        "print(cn2)\n",
        "cn3 = cn1 + cn2\n",
        "print(cn3)\n",
        "cn4 = cn1 - cn2\n",
        "print(cn4)\n",
        "\n",
        "# OUTPUT:\n",
        "# 8\n",
        "# 2 + 1i\n",
        "# 3 + 5i\n",
        "# 5 + 6i\n",
        "# -1 - 4i"
      ],
      "metadata": {
        "colab": {
          "base_uri": "https://localhost:8080/"
        },
        "id": "MdNXifs_jgKy",
        "outputId": "21ed2f12-9a0c-4f52-800e-2f450f43f72e"
      },
      "execution_count": 12,
      "outputs": [
        {
          "output_type": "stream",
          "name": "stdout",
          "text": [
            "8\n",
            "2 + 1i\n",
            "3 + 5i\n",
            "5 + 6i\n",
            "-1 + -4i\n"
          ]
        }
      ]
    },
    {
      "cell_type": "markdown",
      "source": [
        "# Task 3"
      ],
      "metadata": {
        "id": "E-2jLdbmjikA"
      }
    },
    {
      "cell_type": "code",
      "source": [
        "class Account:\n",
        "  def __init__(self, balance):\n",
        "    self._balance = balance\n",
        "  def getBalance(self):\n",
        "    return self._balance\n",
        "\n",
        "class CheckingAccount(Account):\n",
        "  numberOfAccount = 0\n",
        "  def __init__(self,x=0.0):\n",
        "    self.numberOfAccount += 1\n",
        "    super().__init__(round(x,2))\n",
        "\n",
        "  def __str__(self):\n",
        "    return f\"Account Balance {self.getBalance()}\"\n",
        "\n",
        "print('Number of Checking Accounts: ', CheckingAccount.numberOfAccount)\n",
        "print(CheckingAccount())\n",
        "print(CheckingAccount(100.00))\n",
        "print(CheckingAccount(200.00))\n",
        "print('Number of Checking Accounts: ', CheckingAccount.numberOfAccount)\n",
        "\n",
        "# OUTPUT:\n",
        "# Number of Checking\n",
        "# Accounts: 0\n",
        "# Account Balance: 0.0\n",
        "# Account Balance: 100.00\n",
        "# Account Balance: 200.00\n",
        "# Number of Checking\n",
        "# Accounts: 3"
      ],
      "metadata": {
        "id": "QNTbSc_HjgIC",
        "colab": {
          "base_uri": "https://localhost:8080/"
        },
        "outputId": "fb649138-67cf-42eb-ac76-6f110c681fef"
      },
      "execution_count": 13,
      "outputs": [
        {
          "output_type": "stream",
          "name": "stdout",
          "text": [
            "Number of Checking Accounts:  0\n",
            "Account Balance 0.0\n",
            "Account Balance 100.0\n",
            "Account Balance 200.0\n",
            "Number of Checking Accounts:  0\n"
          ]
        }
      ]
    },
    {
      "cell_type": "markdown",
      "source": [
        "# Task 4"
      ],
      "metadata": {
        "id": "7KX0KNSFjpXW"
      }
    },
    {
      "cell_type": "code",
      "source": [
        "class Fruit:\n",
        "  def __init__(self, formalin=False, name=''):\n",
        "    self.__formalin = formalin\n",
        "    self.name = name\n",
        "  def getName(self):\n",
        "    return self.name\n",
        "  def hasFormalin(self):\n",
        "    return self.__formalin\n",
        "\n",
        "class testFruit:\n",
        "  def test(self, f):\n",
        "    print('----Printing Detail----')\n",
        "    if f.hasFormalin():\n",
        "      print('Do not eat the',f.getName(),'.')\n",
        "      print(f)\n",
        "    else:\n",
        "      print('Eat the',f.getName(),'.')\n",
        "      print(f)\n",
        "\n",
        "class Mango(Fruit):\n",
        "  def __init__(self):\n",
        "    super().__init__(True,'Mango')\n",
        "  def __str__(self):\n",
        "    return f\"{self.getName()} are bad for you\"\n",
        "\n",
        "class Jackfruit(Fruit):\n",
        "  def __init__(self):\n",
        "    super().__init__(False,'Jackfruit')\n",
        "  def __str__(self):\n",
        "    return f\"{self.getName()} are good for you\"\n",
        "\n",
        "m = Mango()\n",
        "j = Jackfruit()\n",
        "t1 = testFruit()\n",
        "t1.test(m)\n",
        "t1.test(j)\n",
        "\n",
        "# OUTPUT:\n",
        "# ----Printing Detail-----\n",
        "# Do not eat the Mango.\n",
        "# Mangos are bad for you\n",
        "# ----Printing Detail-----\n",
        "# Eat the Jackfruit.\n",
        "# Jackfruits are good for you"
      ],
      "metadata": {
        "id": "BTi5PLvojgzD",
        "colab": {
          "base_uri": "https://localhost:8080/"
        },
        "outputId": "c13fcf48-6166-414a-fb9c-8e64192ab281"
      },
      "execution_count": 7,
      "outputs": [
        {
          "output_type": "stream",
          "name": "stdout",
          "text": [
            "----Printing Detail----\n",
            "Do not eat the Mango .\n",
            "Mango are bad for you\n",
            "----Printing Detail----\n",
            "Eat the Jackfruit .\n",
            "Jackfruit are good for you\n"
          ]
        }
      ]
    },
    {
      "cell_type": "markdown",
      "source": [
        "# Task 5"
      ],
      "metadata": {
        "id": "TyhDWy1pjr7L"
      }
    },
    {
      "cell_type": "code",
      "source": [
        "class Exam:\n",
        "  def __init__(self,marks):\n",
        "    self.marks = marks\n",
        "    self.time = 60\n",
        "  def examSyllabus(self):\n",
        "    return \"Maths , English\"\n",
        "  def examParts(self):\n",
        "    return \"Part 1 - Maths\\nPart 2 - English\\n\"\n",
        "\n",
        "class ScienceExam(Exam):\n",
        "  def __init__(self,time,marks,*subs):\n",
        "    super().__init__(marks)\n",
        "    self.time = time\n",
        "    self.parts = ['Maths','English']\n",
        "    for sub in subs: self.parts.append(sub)\n",
        "\n",
        "  def __str__(self):\n",
        "    return f\"Marks: {self.time} Time: {self.marks} minutes Number of Parts: {len(self.parts)}\"\n",
        "\n",
        "  def examSyllabus(self):\n",
        "    cont = \"\"\n",
        "    for i in self.parts:\n",
        "      cont +=  i + \" , \"\n",
        "    return cont[:-3:]\n",
        "  \n",
        "  def examParts(self):\n",
        "    container = \"\"\n",
        "    i = 1\n",
        "    for sub in self.parts:\n",
        "      container += 'Part ' + str(i) + ' - ' + sub + '\\n'\n",
        "      i = i + 1\n",
        "    return container\n",
        "engineering = ScienceExam(100,90,\"Physics\",\"HigherMaths\")\n",
        "print(engineering)\n",
        "print('----------------------------------')\n",
        "print(engineering.examSyllabus())\n",
        "print(engineering.examParts())\n",
        "print('==================================')\n",
        "architecture = ScienceExam(100,120,\"Physics\",\"HigherMaths\",\"Drawing\")\n",
        "print(architecture)\n",
        "print('----------------------------------')\n",
        "print(architecture.examSyllabus())\n",
        "print(architecture.examParts())\n",
        "\n",
        "# OUTPUT:\n",
        "# Marks: 100 Time: 90 minutes Number of Parts: 4\n",
        "# ----------------------------------\n",
        "# Maths , English , Physics , HigherMaths\n",
        "# Part 1 - Maths\n",
        "# Part 2 - English\n",
        "# Part 3 - Physics\n",
        "# Part 4 - HigherMaths\n",
        "# ==================================\n",
        "# Marks: 100 Time: 120 minutes Number of Parts: 5\n",
        "# ----------------------------------\n",
        "# Maths , English , Physics , HigherMaths , Drawing\n",
        "# Part 1 - Maths\n",
        "# Part 2 - English\n",
        "# Part 3 - Physics\n",
        "# Part 4 - HigherMaths\n",
        "# Part 5 - Drawing"
      ],
      "metadata": {
        "id": "zlMvu9mGjgwd",
        "colab": {
          "base_uri": "https://localhost:8080/"
        },
        "outputId": "8f62b658-b0d3-4336-f290-8dd70496142c"
      },
      "execution_count": 32,
      "outputs": [
        {
          "output_type": "stream",
          "name": "stdout",
          "text": [
            "Marks: 100 Time: 90 minutes Number of Parts: 4\n",
            "----------------------------------\n",
            "Maths , English , Physics , HigherMaths\n",
            "Part 1 - Maths\n",
            "Part 2 - English\n",
            "Part 3 - Physics\n",
            "Part 4 - HigherMaths\n",
            "\n",
            "==================================\n",
            "Marks: 100 Time: 120 minutes Number of Parts: 5\n",
            "----------------------------------\n",
            "Maths , English , Physics , HigherMaths , Drawing\n",
            "Part 1 - Maths\n",
            "Part 2 - English\n",
            "Part 3 - Physics\n",
            "Part 4 - HigherMaths\n",
            "Part 5 - Drawing\n",
            "\n"
          ]
        }
      ]
    },
    {
      "cell_type": "markdown",
      "source": [
        "# Task 6"
      ],
      "metadata": {
        "id": "PXe-FpiFjtmo"
      }
    },
    {
      "cell_type": "code",
      "source": [
        "class Shape3D:\n",
        "  pi = 3.14159\n",
        "  def __init__(self, name = 'Default', radius = 0):\n",
        "    self._area = 0\n",
        "    self._name = name\n",
        "    self._height = 'No need'\n",
        "    self._radius = radius\n",
        "  \n",
        "  def calc_surface_area(self):\n",
        "    return 2 * Shape3D.pi * self._radius\n",
        "  \n",
        "  def __str__(self):\n",
        "    return \"Radius: \"+str(self._radius)\n",
        "\n",
        "class Sphere(Shape3D):\n",
        "  def __init__(self, name, radius = 0):\n",
        "    print(f\"Shape name: Sphere, Area Formula: 4 * pi * r * r\")\n",
        "    super().__init__(name,radius)\n",
        "\n",
        "  def calc_surface_area(self):\n",
        "    self._area = 4 * Shape3D.pi * self._radius * self._radius\n",
        "\n",
        "  def __str__(self):\n",
        "    return f\"Radius: {self._radius}, Height {self._height} \\nArea: {self._area}\"\n",
        "\n",
        "class Cylinder(Shape3D):\n",
        "  def __init__(self,name,radius,height):\n",
        "    super().__init__(name,radius)\n",
        "    self._height = height\n",
        "\n",
        "  def calc_surface_area(self):\n",
        "    self._area = 2 * Shape3D.pi * self._radius * (self._radius + self._height)\n",
        "\n",
        "  def __str__(self):\n",
        "    return f\"Radius: {self._radius}, Height {self._height} \\nArea: {self._area}\"\n",
        "sph = Sphere('Sphere', 5)\n",
        "print('----------------------------------')\n",
        "sph.calc_surface_area()\n",
        "print(sph)\n",
        "print('==================================')\n",
        "cyl = Cylinder('Cylinder', 5, 10)\n",
        "print('----------------------------------')\n",
        "cyl.calc_surface_area()\n",
        "print(cyl)\n",
        "\n",
        "# OUTPUT:\n",
        "# Shape name: Sphere, Area Formula: 4 * pi * r * r\n",
        "# ----------------------------------\n",
        "# Radius: 5, Height: No need\n",
        "# Area: 314.159\n",
        "# ==================================\n",
        "# Shape name: Cylinder, Area Formula: 2 * pi * r * (r + h)\n",
        "# ----------------------------------\n",
        "# Radius: 5, Height: 10\n",
        "# Area: 471.2385"
      ],
      "metadata": {
        "colab": {
          "base_uri": "https://localhost:8080/"
        },
        "id": "UOcPEfeDjgtj",
        "outputId": "30f940ac-82eb-42f7-8fbc-a0f8ffa7e75a"
      },
      "execution_count": null,
      "outputs": [
        {
          "output_type": "stream",
          "name": "stdout",
          "text": [
            "Shape name: Sphere, Area Formula: 4 * pi * r * r\n",
            "----------------------------------\n",
            "Radius: 5, Height No need \n",
            "Area: 314.159\n",
            "==================================\n",
            "----------------------------------\n",
            "Radius: 5, Height 10 \n",
            "Area: 471.2385\n"
          ]
        }
      ]
    },
    {
      "cell_type": "markdown",
      "source": [
        "# Task  7"
      ],
      "metadata": {
        "id": "CZOb67QOju-Z"
      }
    },
    {
      "cell_type": "code",
      "source": [
        "class PokemonBasic:\n",
        "  def __init__(self, name = 'Default', hp = 0, weakness = 'None', type = 'Unknown'):\n",
        "    self.name = name\n",
        "    self.hit_point = hp\n",
        "    self.weakness = weakness\n",
        "    self.type = type\n",
        "  def get_type(self):\n",
        "    return 'Main type: ' + self.type\n",
        "  def get_move(self):\n",
        "    return 'Basic move: ' + 'Quick Attack'\n",
        "  def __str__(self):\n",
        "    return \"Name: \" + self.name + \", HP: \" + str(self.hit_point) + \", Weakness: \" + self.weakness\n",
        "\n",
        "class PokemonExtra(PokemonBasic):\n",
        "  def __init__(self,name,hp,weakness,type,type2=None,otherMoves=None):\n",
        "    super().__init__(name,hp,weakness,type)\n",
        "    self.type2 = type2\n",
        "    container = otherMoves\n",
        "    self.otherMoves = \"\"\n",
        "    if otherMoves != None:\n",
        "      for i in container:\n",
        "        self.otherMoves += i + ', '\n",
        "  \n",
        "  def get_type(self):\n",
        "    if self.type2 == None: return 'Main type: ' + self.type\n",
        "    else: return f\"Main type: {self.type} Secondary type: {self.type2}\"\n",
        "  \n",
        "  def get_move(self): \n",
        "    if self.otherMoves == \"\": return 'Basic move: ' + 'Quick Attack'\n",
        "    else: return f\"Basic move: Quick Attack \\nOther move: {self.otherMoves[:-2:]}\"\n",
        "\n",
        "print('\\n------------Basic Info:--------------')\n",
        "pk = PokemonBasic()\n",
        "print(pk)\n",
        "print(pk.get_type())\n",
        "print(pk.get_move())\n",
        "print('\\n------------Pokemon 1 Info:-------------')\n",
        "charmander = PokemonExtra('Charmander', 39, 'Water','Fire')\n",
        "print(charmander)\n",
        "print(charmander.get_type())\n",
        "print(charmander.get_move())\n",
        "print('\\n------------Pokemon 2 Info:-------------')\n",
        "charizard = PokemonExtra('Charizard', 78, 'Water','Fire', 'Flying', ('Fire Spin', 'Fire Blaze'))\n",
        "print(charizard)\n",
        "print(charizard.get_type())\n",
        "print(charizard.get_move())\n",
        "\n",
        "# OUTPUT:\n",
        "# ------------Basic Info:--------------\n",
        "# Name: Default, HP: 0, Weakness: None\n",
        "# Main type: Unknown\n",
        "# Basic move: Quick Attack\n",
        "# ------------Pokemon 1 Info:--------------\n",
        "# Name: Charmander, HP: 39, Weakness: Water\n",
        "# Main type: Fire\n",
        "# Basic move: Quick Attack\n",
        "# ------------Pokemon 2 Info:--------------\n",
        "# Name: Charizard, HP: 78, Weakness: Water\n",
        "# Main type: Fire, Secondary type: Flying\n",
        "# Basic move: Quick Attack\n",
        "# Other move: Fire Spin, Fire Blaze"
      ],
      "metadata": {
        "colab": {
          "base_uri": "https://localhost:8080/"
        },
        "id": "rRXiDqpnjgqa",
        "outputId": "1d6b8927-ff29-48eb-faa1-632bf8b8377e"
      },
      "execution_count": null,
      "outputs": [
        {
          "output_type": "stream",
          "name": "stdout",
          "text": [
            "\n",
            "------------Basic Info:--------------\n",
            "Name: Default, HP: 0, Weakness: None\n",
            "Main type: Unknown\n",
            "Basic move: Quick Attack\n",
            "\n",
            "------------Pokemon 1 Info:-------------\n",
            "Name: Charmander, HP: 39, Weakness: Water\n",
            "Main type: Fire\n",
            "Basic move: Quick Attack\n",
            "\n",
            "------------Pokemon 2 Info:-------------\n",
            "Name: Charizard, HP: 78, Weakness: Water\n",
            "Main type: Fire Secondary type: Flying\n",
            "Basic move: Quick Attack \n",
            "Other move: Fire Spin, Fire Blaze\n"
          ]
        }
      ]
    },
    {
      "cell_type": "markdown",
      "source": [
        "# Task  8"
      ],
      "metadata": {
        "id": "o7MQCvq-jwdQ"
      }
    },
    {
      "cell_type": "code",
      "source": [
        "class Team:\n",
        "  def __init__(self, name):\n",
        "    self.name = \"default\"\n",
        "    self.total_player = 5\n",
        "  def info(self)\n",
        "    print(\"We love sports\")\n",
        "  # Write your code here.\n",
        "\n",
        "class Team_test:\n",
        "  def check(self, tm):\n",
        "  print(\"=========================\")\n",
        "  print(\"Total Player: \", tm.total_player)\n",
        "tm.info()\n",
        "f = FootBallTeam(\"Brazil\")\n",
        "c = CricketTeam(\"Bangladesh\")\n",
        "test = Team_test()\n",
        "test.check(f)\n",
        "test.check(c)\n",
        "\n",
        "# =========================\n",
        "# Total Player: 11\n",
        "# Our name is Brazil\n",
        "# We play Football\n",
        "# We love sports\n",
        "# =========================\n",
        "# Total Player: 11\n",
        "# Our name is Bangladesh\n",
        "# We play Cricket\n",
        "# We love sports"
      ],
      "metadata": {
        "id": "I59zYNizjgoC"
      },
      "execution_count": null,
      "outputs": []
    },
    {
      "cell_type": "markdown",
      "source": [
        "# Task 9"
      ],
      "metadata": {
        "id": "zaFZePppjzro"
      }
    },
    {
      "cell_type": "code",
      "source": [
        "class Pokemon:\n",
        "def __init__(self, p):\n",
        "self.pokemon = p\n",
        "self.pokemon_type = \"Needs to be set\"\n",
        "self.pokemon_weakness = \"Needs to be set\"\n",
        "def kind(self):\n",
        "return self.pokemon_type\n",
        "def weakness(self):\n",
        "return self.pokemon_weakness\n",
        "def what_am_i(self):\n",
        "print(\"I am a Pokemon.\")\n",
        "pk1 = Pikachu()\n",
        "print(\"Pokemon:\", pk1.pokemon)\n",
        "print(\"Type:\", pk1.kind())\n",
        "print(\"Weakness:\", pk1.weakness())\n",
        "pk1.what_am_i()\n",
        "print(\"========================\")\n",
        "c1 = Charmander()\n",
        "print(\"Pokemon:\", c1.pokemon)\n",
        "print(\"Type:\", c1.kind())\n",
        "print(\"Weakness:\", c1.weakness())\n",
        "c1.what_am_i()\n",
        "\n",
        "# Pokemon: Pikachu\n",
        "# Type: Electric\n",
        "# Weakness: Ground\n",
        "# I am a Pokemon.\n",
        "# I am Pikachu.\n",
        "# ========================\n",
        "# Pokemon: Charmander\n",
        "# Type: Fire\n",
        "# Weakness: Water, Ground and Rock\n",
        "# I am a Pokemon.\n",
        "# I am Charmander."
      ],
      "metadata": {
        "id": "5M2NAvg_jzNe"
      },
      "execution_count": null,
      "outputs": []
    },
    {
      "cell_type": "markdown",
      "source": [
        "# Task  10"
      ],
      "metadata": {
        "id": "dNaiJX1aj1uw"
      }
    },
    {
      "cell_type": "code",
      "source": [
        "class Department:\n",
        "def __init__(self, s):\n",
        "self.semester = s\n",
        "self.name = \"Default\"\n",
        "self.id = -1\n",
        "def student_info(self):\n",
        "print(\"Name:\", self.name)\n",
        "print(\"ID:\", self.id)\n",
        "def courses(self, c1, c2, c3):\n",
        "print(\"No courses Approved yet!\")\n",
        "\n",
        "s1 = CSE(\"Rahim\", 16101328,\"Spring2016\")\n",
        "s1.student_info()\n",
        "s1.courses(\"CSE110\", \"MAT110\", \"ENG101\")\n",
        "print(\"==================\")\n",
        "s2 = EEE(\"Tanzim\", 18101326, \"Spring2018\")\n",
        "s2.student_info()\n",
        "s2.courses(\"Mat110\", \"PHY111\", \"ENG101\")\n",
        "print(\"==================\")\n",
        "s3 = CSE(\"Rudana\", 18101326, \"Fall2017\")\n",
        "s3.student_info()\n",
        "s3.courses(\"CSE111\", \"PHY101\", \"MAT120\")\n",
        "print(\"==================\")\n",
        "s4 = EEE(\"Zainab\", 19201623, \"Summer2019\")\n",
        "s4.student_info()\n",
        "s4.courses(\"EEE201\", \"PHY112\", \"MAT120\")\n",
        "\n",
        "# Name: Rahim\n",
        "# ID: 16101328\n",
        "# Courses Approved to this CSE student in\n",
        "# Spring2016 semester :\n",
        "# CSE110\n",
        "# MAT110\n",
        "# ENG101\n",
        "# ==================\n",
        "# Name: Tanzim\n",
        "# ID: 18101326\n",
        "# Courses Approved to this EEE student in\n",
        "# Spring2018 semester:\n",
        "# Mat110\n",
        "# PHY111\n",
        "# ENG101\n",
        "# ==================\n",
        "# Name: Rudana\n",
        "# ID: 18101326\n",
        "# Courses Approved to this CSE student in\n",
        "# Fall2017 semester:\n",
        "# CSE111\n",
        "# PHY101\n",
        "# MAT120\n",
        "# ==================\n",
        "# Name: Zainab\n",
        "# ID: 19201623\n",
        "# Courses Approved to this EEE student in\n",
        "# Summer2019 semester:\n",
        "# EEE201\n",
        "# PHY112\n",
        "# MAT120"
      ],
      "metadata": {
        "id": "fswR5AzLjzLV"
      },
      "execution_count": null,
      "outputs": []
    },
    {
      "cell_type": "markdown",
      "source": [
        "# Task  11"
      ],
      "metadata": {
        "id": "r3nkO8Ffj28i"
      }
    },
    {
      "cell_type": "code",
      "source": [
        "1 class A:\n",
        "2 def __init__(self):\n",
        "3 self.temp = 4\n",
        "4 self.sum = 1\n",
        "5 self.y = 2\n",
        "6 self.y = self.temp - 2\n",
        "7 self.sum = self.temp + 3\n",
        "8 self.temp -= 2\n",
        "9 def methodA(self, m, n):\n",
        "10 x = 0\n",
        "11 self.y = self.y + m + self.temp\n",
        "12 self.temp += 1\n",
        "13 x = x + 2 + n\n",
        "14 self.sum = self.sum + x + self.y\n",
        "15 print(x, self.y, self.sum)\n",
        "16\n",
        "17 class B(A):\n",
        "18 def __init__(self, b=None):\n",
        "19 super().__init__()\n",
        "20 self.x = 1\n",
        "21 self.sum = 2\n",
        "22 if b == None:\n",
        "23 self.y = self.temp + 3\n",
        "24 self.sum = 3 + self.temp + 2\n",
        "25 self.temp -= 1\n",
        "26 else:\n",
        "27 self.sum = b.sum\n",
        "28 self.x = b.x\n",
        "29 def methodB(self, m, n):\n",
        "30 y = 0\n",
        "31 y = y + self.y\n",
        "32 self.x = y + 2 + self.temp\n",
        "33 self.methodA(self.x, y)\n",
        "34 self.sum = self.x + y + self.sum\n",
        "35 print(self.x, y, self.sum)\n",
        "\n",
        "Write the output of the following code:\n",
        "a1 = A()\n",
        "b1 = B()\n",
        "b2 = B(b1)\n",
        "a1.methodA(1, 1)\n",
        "b1.methodA(1, 2)\n",
        "b2.methodB(3, 2)"
      ],
      "metadata": {
        "id": "KFARjdHTjzIo"
      },
      "execution_count": null,
      "outputs": []
    },
    {
      "cell_type": "markdown",
      "source": [
        "# Task 12"
      ],
      "metadata": {
        "id": "rVYR2Xb2j4C4"
      }
    },
    {
      "cell_type": "code",
      "source": [
        "1 class A:\n",
        "2 temp = 4\n",
        "3 def __init__(self):\n",
        "4 self.sum = 0\n",
        "5 self.y = 0\n",
        "6 self.y = A.temp - 2\n",
        "7 self.sum = A.temp + 1\n",
        "8 A.temp -= 2\n",
        "9 def methodA(self, m, n):\n",
        "10 x = 0\n",
        "11 self.y = self.y + m + (A.temp)\n",
        "12 A.temp += 1\n",
        "13 x = x + 1 + n\n",
        "14 self.sum = self.sum + x + self.y\n",
        "15 print(x, self.y, self.sum)\n",
        "16\n",
        "17 class B(A):\n",
        "18 x = 0\n",
        "19 def __init__(self,b=None):\n",
        "20 super().__init__()\n",
        "21 self.sum = 0\n",
        "22 if b==None:\n",
        "23 self.y = A.temp + 3\n",
        "24 self.sum = 3 + A.temp + 2\n",
        "25 A.temp -= 2\n",
        "26 else:\n",
        "27 self.sum = b.sum\n",
        "28 B.x = b.x\n",
        "29 b.methodB(2, 3)\n",
        "30 def methodB(self, m, n):\n",
        "31 y = 0\n",
        "32 y = y + self.y\n",
        "33 B.x = self.y + 2 + A.temp\n",
        "34 self.methodA(B.x, y)\n",
        "35 self.sum = B.x + y + self.sum\n",
        "36 print(B.x, y, self.sum)\n",
        "\n",
        "Write the output of the following code:\n",
        "a1 = A()\n",
        "b1 = B()\n",
        "b2 = B(b1)\n",
        "b1.methodA(1, 2)\n",
        "b2.methodB(3, 2)"
      ],
      "metadata": {
        "id": "A6i5nGw9j6GY"
      },
      "execution_count": null,
      "outputs": []
    },
    {
      "cell_type": "markdown",
      "source": [
        "# Task  13"
      ],
      "metadata": {
        "id": "J1W9RPQQj7Tp"
      }
    },
    {
      "cell_type": "code",
      "source": [
        "1 class A:\n",
        "2 temp = 3\n",
        "3 def __init__(self):\n",
        "4 self.sum = 0\n",
        "5 self.y = 0\n",
        "6 self.y = A.temp - 1\n",
        "7 self.sum = A.temp + 2\n",
        "8 A.temp -= 2\n",
        "9\n",
        "10 def methodA(self, m, n):\n",
        "11 x = 0\n",
        "12 n[0] += 1\n",
        "13 self.y = self.y + m + A.temp\n",
        "14 A.temp += 1\n",
        "15 x = x + 2 + n[0]\n",
        "16 n[0] = self.sum + 2\n",
        "17 print(f\"{x} {self.y} {self.sum}\")\n",
        "18\n",
        "19 class B(A):\n",
        "20 x = 1\n",
        "21 def __init__(self, b = None):\n",
        "22 super().__init__()\n",
        "23 self.sum = 2\n",
        "24 if b == None:\n",
        "25 self.y = self.temp + 1\n",
        "26 B.x = 3 + A.temp + self.x\n",
        "27 A.temp -= 2\n",
        "28 else:\n",
        "29 self.sum = self.sum + self.sum\n",
        "30 B.x = b.x + self.x\n",
        "31 def methodB(self, m, n):\n",
        "32 y = [0]\n",
        "33 self.y = y[0] + self.y + m\n",
        "34 B.x = self.y + 2 + self.temp - n\n",
        "35 self.methodA(self.x, y)\n",
        "36 self.sum = self.x + y[0] + self.sum\n",
        "37 print(f\"{self.x} {y[0]} {self.sum}\")\n",
        "\n",
        "Write the output of the following code:\n",
        "x = [23]\n",
        "a1 = A()\n",
        "b1 = B()\n",
        "b2 = B(b1)\n",
        "a1.methodA(1, x)\n",
        "b2.methodB(3, 2)\n",
        "a1.methodA(1, x)"
      ],
      "metadata": {
        "id": "10SEzR1zj6eh"
      },
      "execution_count": null,
      "outputs": []
    },
    {
      "cell_type": "markdown",
      "source": [
        "# Task 14"
      ],
      "metadata": {
        "id": "Ab666jkWj9GI"
      }
    },
    {
      "cell_type": "code",
      "source": [
        "1 class A:\n",
        "2 temp = 7\n",
        "3 def __init__(self):\n",
        "4 self.sum, self.y = 0, 0\n",
        "5 self.y = A.temp - 1\n",
        "6 self.sum = A.temp + 2\n",
        "7 A.temp -= 3\n",
        "8 def methodA(self, m, n):\n",
        "9 x = 4\n",
        "10 n[0] += 1\n",
        "11 self.y = self.y + m + A.temp\n",
        "12 A.temp += 2\n",
        "13 x = x + 3 + n[0]\n",
        "14 n[0] = self.sum + 2\n",
        "15 print(f\"{x} {self.y} {self.sum}\")\n",
        "16 def get_A_sum(self):\n",
        "17 return self.sum\n",
        "18 def update_A_y(self, val):\n",
        "19 self.y = val\n",
        "20 class B(A):\n",
        "21 x = 2\n",
        "22 def __init__(self, b = None):\n",
        "23 super().__init__()\n",
        "24 self.sum = 2\n",
        "25 if b == None:\n",
        "26 self.y = self.temp + 1\n",
        "27 B.x = 4 + A.temp + self.x\n",
        "28 A.temp -= 2\n",
        "29 else:\n",
        "30 self.sum = self.sum + self.get_A_sum()\n",
        "31 B.x = b.x + self.x\n",
        "32 def methodB(self, m, n):\n",
        "33 y = [0]\n",
        "34 self.update_A_y(y[0] + self.y + m)\n",
        "35 B.x = self.y + 4 + self.temp - n\n",
        "36 self.methodA(self.x, y)\n",
        "37 self.sum = self.x + y[0] + self.get_A_sum()\n",
        "38 print(f\"{self.x} {y[0]} {self.sum}\")\n",
        "\n",
        "Write the output of the following code:\n",
        "x = [32]\n",
        "a1 = A()\n",
        "b1 = B()\n",
        "b2 = B(b1)\n",
        "a1.methodA(2, x)\n",
        "b2.methodB(2, 3)\n",
        "a1.methodA(3, x)"
      ],
      "metadata": {
        "id": "etQyjMLZjzFJ"
      },
      "execution_count": null,
      "outputs": []
    }
  ]
}